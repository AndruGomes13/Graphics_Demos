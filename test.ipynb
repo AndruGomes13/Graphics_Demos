{
 "cells": [
  {
   "cell_type": "code",
   "execution_count": null,
   "metadata": {},
   "outputs": [],
   "source": []
  }
 ],
 "metadata": {
  "kernelspec": {
   "display_name": "env",
   "language": "python",
   "name": "python3"
  },
  "language_info": {
   "name": "python",
   "version": "3.9.13"
  },
  "orig_nbformat": 4,
  "vscode": {
   "interpreter": {
    "hash": "ae7b9a96fae551bcfd9a05180a8ca38f0d87af7326892af7fbb8568ac8ba138b"
   }
  }
 },
 "nbformat": 4,
 "nbformat_minor": 2
}
